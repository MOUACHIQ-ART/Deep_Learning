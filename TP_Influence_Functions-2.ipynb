{
  "cells": [
    {
      "cell_type": "code",
      "execution_count": 1,
      "metadata": {
        "id": "n6PcrcL_w7AV",
        "colab": {
          "base_uri": "https://localhost:8080/"
        },
        "outputId": "ba938023-d97a-4c79-85e8-482483a60780"
      },
      "outputs": [
        {
          "output_type": "stream",
          "name": "stdout",
          "text": [
            "Collecting captum\n",
            "  Downloading captum-0.7.0-py3-none-any.whl.metadata (26 kB)\n",
            "Requirement already satisfied: matplotlib in /usr/local/lib/python3.11/dist-packages (from captum) (3.10.0)\n",
            "Requirement already satisfied: numpy in /usr/local/lib/python3.11/dist-packages (from captum) (1.26.4)\n",
            "Requirement already satisfied: torch>=1.6 in /usr/local/lib/python3.11/dist-packages (from captum) (2.5.1+cu124)\n",
            "Requirement already satisfied: tqdm in /usr/local/lib/python3.11/dist-packages (from captum) (4.67.1)\n",
            "Requirement already satisfied: filelock in /usr/local/lib/python3.11/dist-packages (from torch>=1.6->captum) (3.17.0)\n",
            "Requirement already satisfied: typing-extensions>=4.8.0 in /usr/local/lib/python3.11/dist-packages (from torch>=1.6->captum) (4.12.2)\n",
            "Requirement already satisfied: networkx in /usr/local/lib/python3.11/dist-packages (from torch>=1.6->captum) (3.4.2)\n",
            "Requirement already satisfied: jinja2 in /usr/local/lib/python3.11/dist-packages (from torch>=1.6->captum) (3.1.6)\n",
            "Requirement already satisfied: fsspec in /usr/local/lib/python3.11/dist-packages (from torch>=1.6->captum) (2024.10.0)\n",
            "Collecting nvidia-cuda-nvrtc-cu12==12.4.127 (from torch>=1.6->captum)\n",
            "  Downloading nvidia_cuda_nvrtc_cu12-12.4.127-py3-none-manylinux2014_x86_64.whl.metadata (1.5 kB)\n",
            "Collecting nvidia-cuda-runtime-cu12==12.4.127 (from torch>=1.6->captum)\n",
            "  Downloading nvidia_cuda_runtime_cu12-12.4.127-py3-none-manylinux2014_x86_64.whl.metadata (1.5 kB)\n",
            "Collecting nvidia-cuda-cupti-cu12==12.4.127 (from torch>=1.6->captum)\n",
            "  Downloading nvidia_cuda_cupti_cu12-12.4.127-py3-none-manylinux2014_x86_64.whl.metadata (1.6 kB)\n",
            "Collecting nvidia-cudnn-cu12==9.1.0.70 (from torch>=1.6->captum)\n",
            "  Downloading nvidia_cudnn_cu12-9.1.0.70-py3-none-manylinux2014_x86_64.whl.metadata (1.6 kB)\n",
            "Collecting nvidia-cublas-cu12==12.4.5.8 (from torch>=1.6->captum)\n",
            "  Downloading nvidia_cublas_cu12-12.4.5.8-py3-none-manylinux2014_x86_64.whl.metadata (1.5 kB)\n",
            "Collecting nvidia-cufft-cu12==11.2.1.3 (from torch>=1.6->captum)\n",
            "  Downloading nvidia_cufft_cu12-11.2.1.3-py3-none-manylinux2014_x86_64.whl.metadata (1.5 kB)\n",
            "Collecting nvidia-curand-cu12==10.3.5.147 (from torch>=1.6->captum)\n",
            "  Downloading nvidia_curand_cu12-10.3.5.147-py3-none-manylinux2014_x86_64.whl.metadata (1.5 kB)\n",
            "Collecting nvidia-cusolver-cu12==11.6.1.9 (from torch>=1.6->captum)\n",
            "  Downloading nvidia_cusolver_cu12-11.6.1.9-py3-none-manylinux2014_x86_64.whl.metadata (1.6 kB)\n",
            "Collecting nvidia-cusparse-cu12==12.3.1.170 (from torch>=1.6->captum)\n",
            "  Downloading nvidia_cusparse_cu12-12.3.1.170-py3-none-manylinux2014_x86_64.whl.metadata (1.6 kB)\n",
            "Requirement already satisfied: nvidia-nccl-cu12==2.21.5 in /usr/local/lib/python3.11/dist-packages (from torch>=1.6->captum) (2.21.5)\n",
            "Requirement already satisfied: nvidia-nvtx-cu12==12.4.127 in /usr/local/lib/python3.11/dist-packages (from torch>=1.6->captum) (12.4.127)\n",
            "Collecting nvidia-nvjitlink-cu12==12.4.127 (from torch>=1.6->captum)\n",
            "  Downloading nvidia_nvjitlink_cu12-12.4.127-py3-none-manylinux2014_x86_64.whl.metadata (1.5 kB)\n",
            "Requirement already satisfied: triton==3.1.0 in /usr/local/lib/python3.11/dist-packages (from torch>=1.6->captum) (3.1.0)\n",
            "Requirement already satisfied: sympy==1.13.1 in /usr/local/lib/python3.11/dist-packages (from torch>=1.6->captum) (1.13.1)\n",
            "Requirement already satisfied: mpmath<1.4,>=1.1.0 in /usr/local/lib/python3.11/dist-packages (from sympy==1.13.1->torch>=1.6->captum) (1.3.0)\n",
            "Requirement already satisfied: contourpy>=1.0.1 in /usr/local/lib/python3.11/dist-packages (from matplotlib->captum) (1.3.1)\n",
            "Requirement already satisfied: cycler>=0.10 in /usr/local/lib/python3.11/dist-packages (from matplotlib->captum) (0.12.1)\n",
            "Requirement already satisfied: fonttools>=4.22.0 in /usr/local/lib/python3.11/dist-packages (from matplotlib->captum) (4.56.0)\n",
            "Requirement already satisfied: kiwisolver>=1.3.1 in /usr/local/lib/python3.11/dist-packages (from matplotlib->captum) (1.4.8)\n",
            "Requirement already satisfied: packaging>=20.0 in /usr/local/lib/python3.11/dist-packages (from matplotlib->captum) (24.2)\n",
            "Requirement already satisfied: pillow>=8 in /usr/local/lib/python3.11/dist-packages (from matplotlib->captum) (11.1.0)\n",
            "Requirement already satisfied: pyparsing>=2.3.1 in /usr/local/lib/python3.11/dist-packages (from matplotlib->captum) (3.2.1)\n",
            "Requirement already satisfied: python-dateutil>=2.7 in /usr/local/lib/python3.11/dist-packages (from matplotlib->captum) (2.8.2)\n",
            "Requirement already satisfied: six>=1.5 in /usr/local/lib/python3.11/dist-packages (from python-dateutil>=2.7->matplotlib->captum) (1.17.0)\n",
            "Requirement already satisfied: MarkupSafe>=2.0 in /usr/local/lib/python3.11/dist-packages (from jinja2->torch>=1.6->captum) (3.0.2)\n",
            "Downloading captum-0.7.0-py3-none-any.whl (1.3 MB)\n",
            "\u001b[2K   \u001b[90m━━━━━━━━━━━━━━━━━━━━━━━━━━━━━━━━━━━━━━━━\u001b[0m \u001b[32m1.3/1.3 MB\u001b[0m \u001b[31m11.9 MB/s\u001b[0m eta \u001b[36m0:00:00\u001b[0m\n",
            "\u001b[?25hDownloading nvidia_cublas_cu12-12.4.5.8-py3-none-manylinux2014_x86_64.whl (363.4 MB)\n",
            "\u001b[2K   \u001b[90m━━━━━━━━━━━━━━━━━━━━━━━━━━━━━━━━━━━━━━━━\u001b[0m \u001b[32m363.4/363.4 MB\u001b[0m \u001b[31m3.2 MB/s\u001b[0m eta \u001b[36m0:00:00\u001b[0m\n",
            "\u001b[?25hDownloading nvidia_cuda_cupti_cu12-12.4.127-py3-none-manylinux2014_x86_64.whl (13.8 MB)\n",
            "\u001b[2K   \u001b[90m━━━━━━━━━━━━━━━━━━━━━━━━━━━━━━━━━━━━━━━━\u001b[0m \u001b[32m13.8/13.8 MB\u001b[0m \u001b[31m36.4 MB/s\u001b[0m eta \u001b[36m0:00:00\u001b[0m\n",
            "\u001b[?25hDownloading nvidia_cuda_nvrtc_cu12-12.4.127-py3-none-manylinux2014_x86_64.whl (24.6 MB)\n",
            "\u001b[2K   \u001b[90m━━━━━━━━━━━━━━━━━━━━━━━━━━━━━━━━━━━━━━━━\u001b[0m \u001b[32m24.6/24.6 MB\u001b[0m \u001b[31m24.5 MB/s\u001b[0m eta \u001b[36m0:00:00\u001b[0m\n",
            "\u001b[?25hDownloading nvidia_cuda_runtime_cu12-12.4.127-py3-none-manylinux2014_x86_64.whl (883 kB)\n",
            "\u001b[2K   \u001b[90m━━━━━━━━━━━━━━━━━━━━━━━━━━━━━━━━━━━━━━━━\u001b[0m \u001b[32m883.7/883.7 kB\u001b[0m \u001b[31m31.2 MB/s\u001b[0m eta \u001b[36m0:00:00\u001b[0m\n",
            "\u001b[?25hDownloading nvidia_cudnn_cu12-9.1.0.70-py3-none-manylinux2014_x86_64.whl (664.8 MB)\n",
            "\u001b[2K   \u001b[90m━━━━━━━━━━━━━━━━━━━━━━━━━━━━━━━━━━━━━━━━\u001b[0m \u001b[32m664.8/664.8 MB\u001b[0m \u001b[31m2.7 MB/s\u001b[0m eta \u001b[36m0:00:00\u001b[0m\n",
            "\u001b[?25hDownloading nvidia_cufft_cu12-11.2.1.3-py3-none-manylinux2014_x86_64.whl (211.5 MB)\n",
            "\u001b[2K   \u001b[90m━━━━━━━━━━━━━━━━━━━━━━━━━━━━━━━━━━━━━━━━\u001b[0m \u001b[32m211.5/211.5 MB\u001b[0m \u001b[31m6.1 MB/s\u001b[0m eta \u001b[36m0:00:00\u001b[0m\n",
            "\u001b[?25hDownloading nvidia_curand_cu12-10.3.5.147-py3-none-manylinux2014_x86_64.whl (56.3 MB)\n",
            "\u001b[2K   \u001b[90m━━━━━━━━━━━━━━━━━━━━━━━━━━━━━━━━━━━━━━━━\u001b[0m \u001b[32m56.3/56.3 MB\u001b[0m \u001b[31m12.1 MB/s\u001b[0m eta \u001b[36m0:00:00\u001b[0m\n",
            "\u001b[?25hDownloading nvidia_cusolver_cu12-11.6.1.9-py3-none-manylinux2014_x86_64.whl (127.9 MB)\n",
            "\u001b[2K   \u001b[90m━━━━━━━━━━━━━━━━━━━━━━━━━━━━━━━━━━━━━━━━\u001b[0m \u001b[32m127.9/127.9 MB\u001b[0m \u001b[31m7.7 MB/s\u001b[0m eta \u001b[36m0:00:00\u001b[0m\n",
            "\u001b[?25hDownloading nvidia_cusparse_cu12-12.3.1.170-py3-none-manylinux2014_x86_64.whl (207.5 MB)\n",
            "\u001b[2K   \u001b[90m━━━━━━━━━━━━━━━━━━━━━━━━━━━━━━━━━━━━━━━━\u001b[0m \u001b[32m207.5/207.5 MB\u001b[0m \u001b[31m5.9 MB/s\u001b[0m eta \u001b[36m0:00:00\u001b[0m\n",
            "\u001b[?25hDownloading nvidia_nvjitlink_cu12-12.4.127-py3-none-manylinux2014_x86_64.whl (21.1 MB)\n",
            "\u001b[2K   \u001b[90m━━━━━━━━━━━━━━━━━━━━━━━━━━━━━━━━━━━━━━━━\u001b[0m \u001b[32m21.1/21.1 MB\u001b[0m \u001b[31m75.8 MB/s\u001b[0m eta \u001b[36m0:00:00\u001b[0m\n",
            "\u001b[?25hInstalling collected packages: nvidia-nvjitlink-cu12, nvidia-curand-cu12, nvidia-cufft-cu12, nvidia-cuda-runtime-cu12, nvidia-cuda-nvrtc-cu12, nvidia-cuda-cupti-cu12, nvidia-cublas-cu12, nvidia-cusparse-cu12, nvidia-cudnn-cu12, nvidia-cusolver-cu12, captum\n",
            "  Attempting uninstall: nvidia-nvjitlink-cu12\n",
            "    Found existing installation: nvidia-nvjitlink-cu12 12.5.82\n",
            "    Uninstalling nvidia-nvjitlink-cu12-12.5.82:\n",
            "      Successfully uninstalled nvidia-nvjitlink-cu12-12.5.82\n",
            "  Attempting uninstall: nvidia-curand-cu12\n",
            "    Found existing installation: nvidia-curand-cu12 10.3.6.82\n",
            "    Uninstalling nvidia-curand-cu12-10.3.6.82:\n",
            "      Successfully uninstalled nvidia-curand-cu12-10.3.6.82\n",
            "  Attempting uninstall: nvidia-cufft-cu12\n",
            "    Found existing installation: nvidia-cufft-cu12 11.2.3.61\n",
            "    Uninstalling nvidia-cufft-cu12-11.2.3.61:\n",
            "      Successfully uninstalled nvidia-cufft-cu12-11.2.3.61\n",
            "  Attempting uninstall: nvidia-cuda-runtime-cu12\n",
            "    Found existing installation: nvidia-cuda-runtime-cu12 12.5.82\n",
            "    Uninstalling nvidia-cuda-runtime-cu12-12.5.82:\n",
            "      Successfully uninstalled nvidia-cuda-runtime-cu12-12.5.82\n",
            "  Attempting uninstall: nvidia-cuda-nvrtc-cu12\n",
            "    Found existing installation: nvidia-cuda-nvrtc-cu12 12.5.82\n",
            "    Uninstalling nvidia-cuda-nvrtc-cu12-12.5.82:\n",
            "      Successfully uninstalled nvidia-cuda-nvrtc-cu12-12.5.82\n",
            "  Attempting uninstall: nvidia-cuda-cupti-cu12\n",
            "    Found existing installation: nvidia-cuda-cupti-cu12 12.5.82\n",
            "    Uninstalling nvidia-cuda-cupti-cu12-12.5.82:\n",
            "      Successfully uninstalled nvidia-cuda-cupti-cu12-12.5.82\n",
            "  Attempting uninstall: nvidia-cublas-cu12\n",
            "    Found existing installation: nvidia-cublas-cu12 12.5.3.2\n",
            "    Uninstalling nvidia-cublas-cu12-12.5.3.2:\n",
            "      Successfully uninstalled nvidia-cublas-cu12-12.5.3.2\n",
            "  Attempting uninstall: nvidia-cusparse-cu12\n",
            "    Found existing installation: nvidia-cusparse-cu12 12.5.1.3\n",
            "    Uninstalling nvidia-cusparse-cu12-12.5.1.3:\n",
            "      Successfully uninstalled nvidia-cusparse-cu12-12.5.1.3\n",
            "  Attempting uninstall: nvidia-cudnn-cu12\n",
            "    Found existing installation: nvidia-cudnn-cu12 9.3.0.75\n",
            "    Uninstalling nvidia-cudnn-cu12-9.3.0.75:\n",
            "      Successfully uninstalled nvidia-cudnn-cu12-9.3.0.75\n",
            "  Attempting uninstall: nvidia-cusolver-cu12\n",
            "    Found existing installation: nvidia-cusolver-cu12 11.6.3.83\n",
            "    Uninstalling nvidia-cusolver-cu12-11.6.3.83:\n",
            "      Successfully uninstalled nvidia-cusolver-cu12-11.6.3.83\n",
            "Successfully installed captum-0.7.0 nvidia-cublas-cu12-12.4.5.8 nvidia-cuda-cupti-cu12-12.4.127 nvidia-cuda-nvrtc-cu12-12.4.127 nvidia-cuda-runtime-cu12-12.4.127 nvidia-cudnn-cu12-9.1.0.70 nvidia-cufft-cu12-11.2.1.3 nvidia-curand-cu12-10.3.5.147 nvidia-cusolver-cu12-11.6.1.9 nvidia-cusparse-cu12-12.3.1.170 nvidia-nvjitlink-cu12-12.4.127\n"
          ]
        }
      ],
      "source": [
        "!pip install captum"
      ]
    },
    {
      "cell_type": "code",
      "execution_count": 2,
      "metadata": {
        "id": "jrflZjYFwzrQ"
      },
      "outputs": [],
      "source": [
        "import matplotlib.pyplot as plt\n",
        "import os\n",
        "import datetime\n",
        "from tqdm import tqdm\n",
        "import numpy as np\n",
        "import torch\n",
        "import torch.nn as nn\n",
        "import torch.nn.functional as F\n",
        "import torch.optim as optim\n",
        "import torchvision\n",
        "import torchvision.transforms as transforms\n",
        "from captum.influence import TracInCPFast\n",
        "from torch.utils.data import DataLoader, Dataset, Subset\n",
        "from pathlib import Path"
      ]
    },
    {
      "cell_type": "markdown",
      "metadata": {
        "id": "pubw_7tFdnMT"
      },
      "source": [
        "# Preliminaries"
      ]
    },
    {
      "cell_type": "markdown",
      "metadata": {
        "id": "MaeKhL8ddbRb"
      },
      "source": [
        "## Convolutional Neural Network Definition"
      ]
    },
    {
      "cell_type": "code",
      "execution_count": 3,
      "metadata": {
        "id": "ZyGXHDWdxLMm"
      },
      "outputs": [],
      "source": [
        "class LogisticRegressionModelTorch(nn.Module):\n",
        "    def __init__(self, num_classes=10, input_shape=(1,28,28)):\n",
        "        super(LogisticRegressionModelTorch, self).__init__()\n",
        "        torch.manual_seed(42)\n",
        "        self.fc = nn.Linear(np.prod(input_shape), num_classes)\n",
        "\n",
        "    def forward(self, x):\n",
        "        x = x.view(x.size(0), -1)\n",
        "        x = self.fc(x)\n",
        "        return x"
      ]
    },
    {
      "cell_type": "markdown",
      "metadata": {
        "id": "FABzlF57dXdj"
      },
      "source": [
        "## Data Loading and 10% Subset"
      ]
    },
    {
      "cell_type": "code",
      "execution_count": 4,
      "metadata": {
        "id": "MMjBfRdxxSR1"
      },
      "outputs": [],
      "source": [
        "normalize = transforms.Compose([\n",
        "    transforms.ToTensor(),\n",
        "    transforms.Normalize(mean=(0.5,), std=(0.5,)),\n",
        "])"
      ]
    },
    {
      "cell_type": "code",
      "execution_count": 6,
      "metadata": {
        "id": "A2HLh9xjxVMF"
      },
      "outputs": [],
      "source": [
        "trainset = torchvision.datasets.MNIST(\n",
        "            root='data', download=True, train=True, transform=normalize\n",
        "        )\n",
        "testset = torchvision.datasets.MNIST(\n",
        "    root='data', download=True, train=False, transform=normalize\n",
        ")\n",
        "\n",
        "torch.manual_seed(42)\n",
        "\n",
        "train_ids = torch.randperm(len(trainset))[:int(len(trainset) * 0.1)]\n",
        "trainset = Subset(trainset, train_ids)\n",
        "test_ids = torch.randperm(len(testset))[:int(len(testset) * 0.1)]\n",
        "testset = Subset(testset, test_ids)"
      ]
    },
    {
      "cell_type": "markdown",
      "metadata": {
        "id": "MaxU-y7CdwIs"
      },
      "source": [
        "## Training Utils"
      ]
    },
    {
      "cell_type": "code",
      "execution_count": 7,
      "metadata": {
        "id": "Z-OBCIb6yXyn"
      },
      "outputs": [],
      "source": [
        "def train(net, trainset, testset, checkpoints_dir: str):\n",
        "\n",
        "    train_dataloader = DataLoader(\n",
        "      trainset,\n",
        "      batch_size=256,\n",
        "      shuffle=False,\n",
        "    )\n",
        "    test_dataloader = DataLoader(\n",
        "      testset,\n",
        "      batch_size=256,\n",
        "      shuffle=False,\n",
        "    )\n",
        "\n",
        "    if checkpoints_dir is not None:\n",
        "      Path(checkpoints_dir).mkdir(parents=True, exist_ok=True)\n",
        "\n",
        "    criterion = nn.CrossEntropyLoss()\n",
        "    optimizer = optim.SGD(net.parameters(), lr=0.001, momentum=0.9)\n",
        "\n",
        "    num_epochs = 5\n",
        "    save_every = 1\n",
        "\n",
        "    for epoch in range(num_epochs):\n",
        "        epoch_loss = 0.0\n",
        "        running_loss = 0.0\n",
        "\n",
        "        # Wrap training loop with tqdm for progress visualization\n",
        "        progress_bar = tqdm(enumerate(train_dataloader), total=len(train_dataloader), desc=f\"Epoch {epoch+1}\", leave=True, position=0)\n",
        "\n",
        "        for i, data in progress_bar:\n",
        "            inputs, labels = data\n",
        "            optimizer.zero_grad()\n",
        "            outputs = net(inputs)\n",
        "            loss = criterion(outputs, labels)\n",
        "            loss.backward()\n",
        "            optimizer.step()\n",
        "\n",
        "            running_loss += loss.item()\n",
        "            progress_bar.set_postfix(loss=running_loss / (i + 1))  # Display loss in tqdm\n",
        "\n",
        "            if (i + 1) % 100 == 0:\n",
        "                epoch_loss += running_loss\n",
        "                running_loss = 0.0\n",
        "\n",
        "        if epoch % save_every == 0 and checkpoints_dir is not None:\n",
        "            checkpoint_name = f\"checkpoint-{epoch}.pt\"\n",
        "            torch.save({\n",
        "                \"epoch\": epoch,\n",
        "                \"model_state_dict\": net.state_dict(),\n",
        "                \"optimizer_state_dict\": optimizer.state_dict(),\n",
        "                \"loss\": epoch_loss,\n",
        "            }, os.path.join(checkpoints_dir, checkpoint_name))\n",
        "\n",
        "        # Calculate validation accuracy\n",
        "        correct = 0\n",
        "        total = 0\n",
        "        with torch.no_grad():\n",
        "            for data in test_dataloader:\n",
        "                images, labels = data\n",
        "                outputs = net(images)\n",
        "                _, predicted = torch.max(outputs.data, 1)\n",
        "                total += labels.size(0)\n",
        "                correct += (predicted == labels).sum().item()\n",
        "\n",
        "        print(f\"Accuracy of the network on test set at epoch {epoch}: {100 * correct / total:.2f}%\")"
      ]
    },
    {
      "cell_type": "code",
      "execution_count": 9,
      "metadata": {
        "id": "kn7Gdrn-oM9d"
      },
      "outputs": [],
      "source": [
        "def loss_per_sample(net, data):\n",
        "  loss = nn.CrossEntropyLoss(reduction='none')\n",
        "  dataloader = DataLoader(\n",
        "    data,\n",
        "    batch_size=len(data),\n",
        "    shuffle=False,\n",
        "  )\n",
        "  losses = None\n",
        "  with torch.no_grad():\n",
        "    for batch in dataloader:\n",
        "      inputs, labels = batch\n",
        "      outputs = net(inputs)\n",
        "      losses = loss(outputs, labels)\n",
        "  return losses.numpy()"
      ]
    },
    {
      "cell_type": "markdown",
      "metadata": {
        "id": "UV3JCVqHfErc"
      },
      "source": [
        "# TP Tasks\n"
      ]
    },
    {
      "cell_type": "markdown",
      "metadata": {
        "id": "mnvSrX99fLxM"
      },
      "source": [
        "## Task 1: Model Trainning (Full Dataset)\n",
        "\n",
        "> Add blockquote\n",
        "\n",
        "\n",
        "\n",
        "Call the training function by giving the full trainset and testset. Save the checkpoints (model parameters) in the directory \"model_full_dataset\" using the *checkpoints_dir* argument.\n",
        "\n",
        "Measure the training time and save it to a variable"
      ]
    },
    {
      "cell_type": "code",
      "execution_count": 10,
      "metadata": {
        "id": "YXQ9ufloQM08"
      },
      "outputs": [],
      "source": [
        "model_full = LogisticRegressionModelTorch()"
      ]
    },
    {
      "cell_type": "code",
      "execution_count": 11,
      "metadata": {
        "id": "bgiD3tQseo4n",
        "colab": {
          "base_uri": "https://localhost:8080/"
        },
        "outputId": "62dd3446-c920-4f32-e5cc-9607962a37de"
      },
      "outputs": [
        {
          "output_type": "stream",
          "name": "stderr",
          "text": [
            "Epoch 1: 100%|██████████| 24/24 [00:02<00:00, 11.91it/s, loss=2.08]\n"
          ]
        },
        {
          "output_type": "stream",
          "name": "stdout",
          "text": [
            "Accuracy of the network on test set at epoch 0: 64.40%\n"
          ]
        },
        {
          "output_type": "stream",
          "name": "stderr",
          "text": [
            "Epoch 2: 100%|██████████| 24/24 [00:02<00:00, 10.27it/s, loss=1.48]\n"
          ]
        },
        {
          "output_type": "stream",
          "name": "stdout",
          "text": [
            "Accuracy of the network on test set at epoch 1: 75.40%\n"
          ]
        },
        {
          "output_type": "stream",
          "name": "stderr",
          "text": [
            "Epoch 3: 100%|██████████| 24/24 [00:01<00:00, 15.90it/s, loss=1.14]\n"
          ]
        },
        {
          "output_type": "stream",
          "name": "stdout",
          "text": [
            "Accuracy of the network on test set at epoch 2: 79.40%\n"
          ]
        },
        {
          "output_type": "stream",
          "name": "stderr",
          "text": [
            "Epoch 4: 100%|██████████| 24/24 [00:01<00:00, 15.27it/s, loss=0.958]\n"
          ]
        },
        {
          "output_type": "stream",
          "name": "stdout",
          "text": [
            "Accuracy of the network on test set at epoch 3: 82.10%\n"
          ]
        },
        {
          "output_type": "stream",
          "name": "stderr",
          "text": [
            "Epoch 5: 100%|██████████| 24/24 [00:01<00:00, 15.20it/s, loss=0.849]\n"
          ]
        },
        {
          "output_type": "stream",
          "name": "stdout",
          "text": [
            "Accuracy of the network on test set at epoch 4: 83.50%\n",
            "Training completed in 10.34 seconds\n"
          ]
        }
      ],
      "source": [
        "# TODO: Complete the block\n",
        "import time\n",
        "\n",
        "model_full = LogisticRegressionModelTorch()\n",
        "checkpoints_dir = \"model_full_dataset\"\n",
        "start_time = time.time()\n",
        "train(model_full, trainset, testset, checkpoints_dir)\n",
        "training_time = time.time() - start_time\n",
        "print(f\"Training completed in {training_time:.2f} seconds\")\n"
      ]
    },
    {
      "cell_type": "markdown",
      "metadata": {
        "id": "9srP4JyBgJE5"
      },
      "source": [
        "**Q1.1**: What is the train and test accuracy at the end of the training and the total training time?"
      ]
    },
    {
      "cell_type": "markdown",
      "metadata": {
        "id": "aA_qluhcgjBW"
      },
      "source": [
        "TODO: Answer\n",
        "\n",
        "At the end of the training, the model achieved an accuracy of 83.50% on the test set, demonstrating a good generalization ability on unseen data."
      ]
    },
    {
      "cell_type": "markdown",
      "metadata": {
        "id": "V9ENvVTbqMGo"
      },
      "source": [
        "**Q1.2**: Compute the loss of **test** samples using the *loss_per_sample* function. Then plot a histogram of the test losses using matplotlib"
      ]
    },
    {
      "cell_type": "code",
      "execution_count": 14,
      "metadata": {
        "id": "iX19TewZrLYA",
        "colab": {
          "base_uri": "https://localhost:8080/",
          "height": 564
        },
        "outputId": "220da6db-b9d6-431c-f7c0-cd29c1c52915"
      },
      "outputs": [
        {
          "output_type": "display_data",
          "data": {
            "text/plain": [
              "<Figure size 800x600 with 1 Axes>"
            ],
            "image/png": "[encoded data removed]"
          },
          "metadata": {}
        }
      ],
      "source": [
        "# TODO: Complete the block\n",
        "import matplotlib.pyplot as plt\n",
        "\n",
        "test_losses = loss_per_sample(model_full, testset)\n",
        "\n",
        "plt.figure(figsize=(8, 6))\n",
        "plt.hist(test_losses, bins=50, color='blue', alpha=0.7, edgecolor='black')\n",
        "plt.xlabel(\"Loss per sample\")\n",
        "plt.ylabel(\"Frequency\")\n",
        "plt.title(\"Histogram of Test Losses\")\n",
        "plt.grid(axis='y', linestyle='--', alpha=0.7)\n",
        "plt.show()\n"
      ]
    },
    {
      "cell_type": "markdown",
      "metadata": {
        "id": "ejRytEDNQ7L_"
      },
      "source": [
        "**Q1.2**: Find the **test** sample id with the highest loss. Print its loss value and store its id."
      ]
    },
    {
      "cell_type": "code",
      "execution_count": 15,
      "metadata": {
        "id": "S2GSHVGfQ6jv",
        "colab": {
          "base_uri": "https://localhost:8080/"
        },
        "outputId": "79639578-a24e-4b50-a808-18358d3887c9"
      },
      "outputs": [
        {
          "output_type": "stream",
          "name": "stdout",
          "text": [
            "Test sample ID with highest loss: 785\n",
            "Highest loss value: 4.6784\n"
          ]
        }
      ],
      "source": [
        "high_loss_test_id = None\n",
        "# TODO: Complete the block\n",
        "test_losses = loss_per_sample(model_full, testset)\n",
        "high_loss_test_id = np.argmax(test_losses)\n",
        "highest_loss_value = test_losses[high_loss_test_id]\n",
        "\n",
        "print(f\"Test sample ID with highest loss: {high_loss_test_id}\")\n",
        "print(f\"Highest loss value: {highest_loss_value:.4f}\")\n"
      ]
    },
    {
      "cell_type": "markdown",
      "metadata": {
        "id": "09tqh5iYnefL"
      },
      "source": [
        "##Task 2: Leave-One-Out (LOO) Influence"
      ]
    },
    {
      "cell_type": "markdown",
      "metadata": {
        "id": "8zc0de8FniFk"
      },
      "source": [
        "**Q2.1**. Plot the image with the highest test loss (high_loss_test_id)."
      ]
    },
    {
      "cell_type": "code",
      "execution_count": 17,
      "metadata": {
        "id": "T5pk2bcoyBNv"
      },
      "outputs": [],
      "source": [
        "def plot_img(img, label):\n",
        "  plt.imshow(img.squeeze(), cmap='gray')\n",
        "  plt.title(f\"Label: {label}\")\n",
        "  plt.show()"
      ]
    },
    {
      "cell_type": "code",
      "execution_count": 19,
      "metadata": {
        "id": "qG0KJ4HogjPm",
        "colab": {
          "base_uri": "https://localhost:8080/",
          "height": 452
        },
        "outputId": "b15334ae-471f-4f03-f543-f53e18620072"
      },
      "outputs": [
        {
          "output_type": "display_data",
          "data": {
            "text/plain": [
              "<Figure size 640x480 with 1 Axes>"
            ],
            "image/png": "[encoded data removed]"
          },
          "metadata": {}
        }
      ],
      "source": [
        "# TODO: Complete the block\n",
        "\n",
        "high_loss_img, high_loss_label = testset[high_loss_test_id]\n",
        "\n",
        "plot_img(high_loss_img, high_loss_label)\n"
      ]
    },
    {
      "cell_type": "markdown",
      "metadata": {
        "id": "mNvx30musFmA"
      },
      "source": [
        "TODO: Answer\n",
        "\n",
        "The image shows a handwritten 7, but its slanted shape might confuse the model, leading to misclassification."
      ]
    },
    {
      "cell_type": "markdown",
      "metadata": {
        "id": "vv_FYEEasr2Y"
      },
      "source": [
        "**Q2.2**. Exclude the first 10 samples, one sample each time and train the model again. You will train in total 10 models. When you exclude each sample, compute the new loss of the model on the sample sample with the high_loss_test_id. Save the loss on high_loss_test_id to the array loo_losses_array.\n",
        "\n",
        "Do not save the model weights, call the train function with *checkpoints_dir = None*."
      ]
    },
    {
      "cell_type": "code",
      "execution_count": 21,
      "metadata": {
        "id": "LHGkwBp0QjQG"
      },
      "outputs": [],
      "source": [
        "train_enumerated_ids = np.arange(len(trainset))"
      ]
    },
    {
      "cell_type": "code",
      "execution_count": 22,
      "metadata": {
        "id": "ptHaUqv5i2kK",
        "colab": {
          "base_uri": "https://localhost:8080/"
        },
        "outputId": "29f3505f-a774-40ce-c2cb-4fbcbd13ef58"
      },
      "outputs": [
        {
          "output_type": "stream",
          "name": "stdout",
          "text": [
            "excluding id 0, Current train ids: [   1    2    3 ... 5997 5998 5999]\n"
          ]
        },
        {
          "output_type": "stream",
          "name": "stderr",
          "text": [
            "Epoch 1: 100%|██████████| 24/24 [00:01<00:00, 14.63it/s, loss=2.08]\n"
          ]
        },
        {
          "output_type": "stream",
          "name": "stdout",
          "text": [
            "Accuracy of the network on test set at epoch 0: 64.50%\n"
          ]
        },
        {
          "output_type": "stream",
          "name": "stderr",
          "text": [
            "Epoch 2: 100%|██████████| 24/24 [00:01<00:00, 15.39it/s, loss=1.48]\n"
          ]
        },
        {
          "output_type": "stream",
          "name": "stdout",
          "text": [
            "Accuracy of the network on test set at epoch 1: 75.20%\n"
          ]
        },
        {
          "output_type": "stream",
          "name": "stderr",
          "text": [
            "Epoch 3: 100%|██████████| 24/24 [00:01<00:00, 13.33it/s, loss=1.14]\n"
          ]
        },
        {
          "output_type": "stream",
          "name": "stdout",
          "text": [
            "Accuracy of the network on test set at epoch 2: 79.30%\n"
          ]
        },
        {
          "output_type": "stream",
          "name": "stderr",
          "text": [
            "Epoch 4: 100%|██████████| 24/24 [00:02<00:00, 11.47it/s, loss=0.959]\n"
          ]
        },
        {
          "output_type": "stream",
          "name": "stdout",
          "text": [
            "Accuracy of the network on test set at epoch 3: 82.20%\n"
          ]
        },
        {
          "output_type": "stream",
          "name": "stderr",
          "text": [
            "Epoch 5: 100%|██████████| 24/24 [00:01<00:00, 14.70it/s, loss=0.849]\n"
          ]
        },
        {
          "output_type": "stream",
          "name": "stdout",
          "text": [
            "Accuracy of the network on test set at epoch 4: 83.50%\n",
            "excluding id 1, Current train ids: [   0    2    3 ... 5997 5998 5999]\n"
          ]
        },
        {
          "output_type": "stream",
          "name": "stderr",
          "text": [
            "Epoch 1: 100%|██████████| 24/24 [00:01<00:00, 15.06it/s, loss=2.08]\n"
          ]
        },
        {
          "output_type": "stream",
          "name": "stdout",
          "text": [
            "Accuracy of the network on test set at epoch 0: 64.20%\n"
          ]
        },
        {
          "output_type": "stream",
          "name": "stderr",
          "text": [
            "Epoch 2: 100%|██████████| 24/24 [00:01<00:00, 14.67it/s, loss=1.48]\n"
          ]
        },
        {
          "output_type": "stream",
          "name": "stdout",
          "text": [
            "Accuracy of the network on test set at epoch 1: 75.20%\n"
          ]
        },
        {
          "output_type": "stream",
          "name": "stderr",
          "text": [
            "Epoch 3: 100%|██████████| 24/24 [00:01<00:00, 13.86it/s, loss=1.14]\n"
          ]
        },
        {
          "output_type": "stream",
          "name": "stdout",
          "text": [
            "Accuracy of the network on test set at epoch 2: 79.30%\n"
          ]
        },
        {
          "output_type": "stream",
          "name": "stderr",
          "text": [
            "Epoch 4: 100%|██████████| 24/24 [00:01<00:00, 13.56it/s, loss=0.959]\n"
          ]
        },
        {
          "output_type": "stream",
          "name": "stdout",
          "text": [
            "Accuracy of the network on test set at epoch 3: 82.20%\n"
          ]
        },
        {
          "output_type": "stream",
          "name": "stderr",
          "text": [
            "Epoch 5: 100%|██████████| 24/24 [00:02<00:00, 10.41it/s, loss=0.85]\n"
          ]
        },
        {
          "output_type": "stream",
          "name": "stdout",
          "text": [
            "Accuracy of the network on test set at epoch 4: 83.50%\n",
            "excluding id 2, Current train ids: [   0    1    3 ... 5997 5998 5999]\n"
          ]
        },
        {
          "output_type": "stream",
          "name": "stderr",
          "text": [
            "Epoch 1: 100%|██████████| 24/24 [00:01<00:00, 14.80it/s, loss=2.08]\n"
          ]
        },
        {
          "output_type": "stream",
          "name": "stdout",
          "text": [
            "Accuracy of the network on test set at epoch 0: 64.40%\n"
          ]
        },
        {
          "output_type": "stream",
          "name": "stderr",
          "text": [
            "Epoch 2: 100%|██████████| 24/24 [00:01<00:00, 14.71it/s, loss=1.48]\n"
          ]
        },
        {
          "output_type": "stream",
          "name": "stdout",
          "text": [
            "Accuracy of the network on test set at epoch 1: 75.10%\n"
          ]
        },
        {
          "output_type": "stream",
          "name": "stderr",
          "text": [
            "Epoch 3: 100%|██████████| 24/24 [00:01<00:00, 14.60it/s, loss=1.14]\n"
          ]
        },
        {
          "output_type": "stream",
          "name": "stdout",
          "text": [
            "Accuracy of the network on test set at epoch 2: 79.40%\n"
          ]
        },
        {
          "output_type": "stream",
          "name": "stderr",
          "text": [
            "Epoch 4: 100%|██████████| 24/24 [00:01<00:00, 14.27it/s, loss=0.959]\n"
          ]
        },
        {
          "output_type": "stream",
          "name": "stdout",
          "text": [
            "Accuracy of the network on test set at epoch 3: 82.20%\n"
          ]
        },
        {
          "output_type": "stream",
          "name": "stderr",
          "text": [
            "Epoch 5: 100%|██████████| 24/24 [00:01<00:00, 14.21it/s, loss=0.85]\n"
          ]
        },
        {
          "output_type": "stream",
          "name": "stdout",
          "text": [
            "Accuracy of the network on test set at epoch 4: 83.50%\n",
            "excluding id 3, Current train ids: [   0    1    2 ... 5997 5998 5999]\n"
          ]
        },
        {
          "output_type": "stream",
          "name": "stderr",
          "text": [
            "Epoch 1: 100%|██████████| 24/24 [00:02<00:00, 10.82it/s, loss=2.08]\n"
          ]
        },
        {
          "output_type": "stream",
          "name": "stdout",
          "text": [
            "Accuracy of the network on test set at epoch 0: 64.30%\n"
          ]
        },
        {
          "output_type": "stream",
          "name": "stderr",
          "text": [
            "Epoch 2: 100%|██████████| 24/24 [00:01<00:00, 12.85it/s, loss=1.48]\n"
          ]
        },
        {
          "output_type": "stream",
          "name": "stdout",
          "text": [
            "Accuracy of the network on test set at epoch 1: 75.30%\n"
          ]
        },
        {
          "output_type": "stream",
          "name": "stderr",
          "text": [
            "Epoch 3: 100%|██████████| 24/24 [00:01<00:00, 13.73it/s, loss=1.14]\n"
          ]
        },
        {
          "output_type": "stream",
          "name": "stdout",
          "text": [
            "Accuracy of the network on test set at epoch 2: 79.30%\n"
          ]
        },
        {
          "output_type": "stream",
          "name": "stderr",
          "text": [
            "Epoch 4: 100%|██████████| 24/24 [00:01<00:00, 15.02it/s, loss=0.959]\n"
          ]
        },
        {
          "output_type": "stream",
          "name": "stdout",
          "text": [
            "Accuracy of the network on test set at epoch 3: 82.10%\n"
          ]
        },
        {
          "output_type": "stream",
          "name": "stderr",
          "text": [
            "Epoch 5: 100%|██████████| 24/24 [00:01<00:00, 15.86it/s, loss=0.849]\n"
          ]
        },
        {
          "output_type": "stream",
          "name": "stdout",
          "text": [
            "Accuracy of the network on test set at epoch 4: 83.50%\n",
            "excluding id 4, Current train ids: [   0    1    2 ... 5997 5998 5999]\n"
          ]
        },
        {
          "output_type": "stream",
          "name": "stderr",
          "text": [
            "Epoch 1: 100%|██████████| 24/24 [00:01<00:00, 15.51it/s, loss=2.08]\n"
          ]
        },
        {
          "output_type": "stream",
          "name": "stdout",
          "text": [
            "Accuracy of the network on test set at epoch 0: 64.30%\n"
          ]
        },
        {
          "output_type": "stream",
          "name": "stderr",
          "text": [
            "Epoch 2: 100%|██████████| 24/24 [00:02<00:00, 11.14it/s, loss=1.48]\n"
          ]
        },
        {
          "output_type": "stream",
          "name": "stdout",
          "text": [
            "Accuracy of the network on test set at epoch 1: 75.30%\n"
          ]
        },
        {
          "output_type": "stream",
          "name": "stderr",
          "text": [
            "Epoch 3: 100%|██████████| 24/24 [00:02<00:00, 11.67it/s, loss=1.14]\n"
          ]
        },
        {
          "output_type": "stream",
          "name": "stdout",
          "text": [
            "Accuracy of the network on test set at epoch 2: 79.30%\n"
          ]
        },
        {
          "output_type": "stream",
          "name": "stderr",
          "text": [
            "Epoch 4: 100%|██████████| 24/24 [00:01<00:00, 15.02it/s, loss=0.959]\n"
          ]
        },
        {
          "output_type": "stream",
          "name": "stdout",
          "text": [
            "Accuracy of the network on test set at epoch 3: 82.10%\n"
          ]
        },
        {
          "output_type": "stream",
          "name": "stderr",
          "text": [
            "Epoch 5: 100%|██████████| 24/24 [00:02<00:00, 10.50it/s, loss=0.849]\n"
          ]
        },
        {
          "output_type": "stream",
          "name": "stdout",
          "text": [
            "Accuracy of the network on test set at epoch 4: 83.50%\n",
            "excluding id 5, Current train ids: [   0    1    2 ... 5997 5998 5999]\n"
          ]
        },
        {
          "output_type": "stream",
          "name": "stderr",
          "text": [
            "Epoch 1: 100%|██████████| 24/24 [00:01<00:00, 15.59it/s, loss=2.08]\n"
          ]
        },
        {
          "output_type": "stream",
          "name": "stdout",
          "text": [
            "Accuracy of the network on test set at epoch 0: 64.30%\n"
          ]
        },
        {
          "output_type": "stream",
          "name": "stderr",
          "text": [
            "Epoch 2: 100%|██████████| 24/24 [00:01<00:00, 15.63it/s, loss=1.48]\n"
          ]
        },
        {
          "output_type": "stream",
          "name": "stdout",
          "text": [
            "Accuracy of the network on test set at epoch 1: 75.30%\n"
          ]
        },
        {
          "output_type": "stream",
          "name": "stderr",
          "text": [
            "Epoch 3: 100%|██████████| 24/24 [00:02<00:00, 10.90it/s, loss=1.14]\n"
          ]
        },
        {
          "output_type": "stream",
          "name": "stdout",
          "text": [
            "Accuracy of the network on test set at epoch 2: 79.30%\n"
          ]
        },
        {
          "output_type": "stream",
          "name": "stderr",
          "text": [
            "Epoch 4: 100%|██████████| 24/24 [00:01<00:00, 14.18it/s, loss=0.959]\n"
          ]
        },
        {
          "output_type": "stream",
          "name": "stdout",
          "text": [
            "Accuracy of the network on test set at epoch 3: 82.10%\n"
          ]
        },
        {
          "output_type": "stream",
          "name": "stderr",
          "text": [
            "Epoch 5: 100%|██████████| 24/24 [00:01<00:00, 14.77it/s, loss=0.85]\n"
          ]
        },
        {
          "output_type": "stream",
          "name": "stdout",
          "text": [
            "Accuracy of the network on test set at epoch 4: 83.50%\n",
            "excluding id 6, Current train ids: [   0    1    2 ... 5997 5998 5999]\n"
          ]
        },
        {
          "output_type": "stream",
          "name": "stderr",
          "text": [
            "Epoch 1: 100%|██████████| 24/24 [00:01<00:00, 14.74it/s, loss=2.08]\n"
          ]
        },
        {
          "output_type": "stream",
          "name": "stdout",
          "text": [
            "Accuracy of the network on test set at epoch 0: 64.40%\n"
          ]
        },
        {
          "output_type": "stream",
          "name": "stderr",
          "text": [
            "Epoch 2: 100%|██████████| 24/24 [00:01<00:00, 15.05it/s, loss=1.48]\n"
          ]
        },
        {
          "output_type": "stream",
          "name": "stdout",
          "text": [
            "Accuracy of the network on test set at epoch 1: 75.10%\n"
          ]
        },
        {
          "output_type": "stream",
          "name": "stderr",
          "text": [
            "Epoch 3: 100%|██████████| 24/24 [00:01<00:00, 15.02it/s, loss=1.14]\n"
          ]
        },
        {
          "output_type": "stream",
          "name": "stdout",
          "text": [
            "Accuracy of the network on test set at epoch 2: 79.30%\n"
          ]
        },
        {
          "output_type": "stream",
          "name": "stderr",
          "text": [
            "Epoch 4: 100%|██████████| 24/24 [00:01<00:00, 12.30it/s, loss=0.959]\n"
          ]
        },
        {
          "output_type": "stream",
          "name": "stdout",
          "text": [
            "Accuracy of the network on test set at epoch 3: 82.10%\n"
          ]
        },
        {
          "output_type": "stream",
          "name": "stderr",
          "text": [
            "Epoch 5: 100%|██████████| 24/24 [00:02<00:00, 11.98it/s, loss=0.85]\n"
          ]
        },
        {
          "output_type": "stream",
          "name": "stdout",
          "text": [
            "Accuracy of the network on test set at epoch 4: 83.50%\n",
            "excluding id 7, Current train ids: [   0    1    2 ... 5997 5998 5999]\n"
          ]
        },
        {
          "output_type": "stream",
          "name": "stderr",
          "text": [
            "Epoch 1: 100%|██████████| 24/24 [00:01<00:00, 15.09it/s, loss=2.08]\n"
          ]
        },
        {
          "output_type": "stream",
          "name": "stdout",
          "text": [
            "Accuracy of the network on test set at epoch 0: 64.20%\n"
          ]
        },
        {
          "output_type": "stream",
          "name": "stderr",
          "text": [
            "Epoch 2: 100%|██████████| 24/24 [00:01<00:00, 14.89it/s, loss=1.48]\n"
          ]
        },
        {
          "output_type": "stream",
          "name": "stdout",
          "text": [
            "Accuracy of the network on test set at epoch 1: 75.30%\n"
          ]
        },
        {
          "output_type": "stream",
          "name": "stderr",
          "text": [
            "Epoch 3: 100%|██████████| 24/24 [00:01<00:00, 15.18it/s, loss=1.14]\n"
          ]
        },
        {
          "output_type": "stream",
          "name": "stdout",
          "text": [
            "Accuracy of the network on test set at epoch 2: 79.30%\n"
          ]
        },
        {
          "output_type": "stream",
          "name": "stderr",
          "text": [
            "Epoch 4: 100%|██████████| 24/24 [00:01<00:00, 14.94it/s, loss=0.959]\n"
          ]
        },
        {
          "output_type": "stream",
          "name": "stdout",
          "text": [
            "Accuracy of the network on test set at epoch 3: 82.10%\n"
          ]
        },
        {
          "output_type": "stream",
          "name": "stderr",
          "text": [
            "Epoch 5: 100%|██████████| 24/24 [00:01<00:00, 13.96it/s, loss=0.849]\n"
          ]
        },
        {
          "output_type": "stream",
          "name": "stdout",
          "text": [
            "Accuracy of the network on test set at epoch 4: 83.50%\n",
            "excluding id 8, Current train ids: [   0    1    2 ... 5997 5998 5999]\n"
          ]
        },
        {
          "output_type": "stream",
          "name": "stderr",
          "text": [
            "Epoch 1: 100%|██████████| 24/24 [00:02<00:00, 11.11it/s, loss=2.08]\n"
          ]
        },
        {
          "output_type": "stream",
          "name": "stdout",
          "text": [
            "Accuracy of the network on test set at epoch 0: 64.20%\n"
          ]
        },
        {
          "output_type": "stream",
          "name": "stderr",
          "text": [
            "Epoch 2: 100%|██████████| 24/24 [00:01<00:00, 15.70it/s, loss=1.48]\n"
          ]
        },
        {
          "output_type": "stream",
          "name": "stdout",
          "text": [
            "Accuracy of the network on test set at epoch 1: 75.20%\n"
          ]
        },
        {
          "output_type": "stream",
          "name": "stderr",
          "text": [
            "Epoch 3: 100%|██████████| 24/24 [00:01<00:00, 15.52it/s, loss=1.14]\n"
          ]
        },
        {
          "output_type": "stream",
          "name": "stdout",
          "text": [
            "Accuracy of the network on test set at epoch 2: 79.30%\n"
          ]
        },
        {
          "output_type": "stream",
          "name": "stderr",
          "text": [
            "Epoch 4: 100%|██████████| 24/24 [00:01<00:00, 15.28it/s, loss=0.959]\n"
          ]
        },
        {
          "output_type": "stream",
          "name": "stdout",
          "text": [
            "Accuracy of the network on test set at epoch 3: 82.10%\n"
          ]
        },
        {
          "output_type": "stream",
          "name": "stderr",
          "text": [
            "Epoch 5: 100%|██████████| 24/24 [00:01<00:00, 15.21it/s, loss=0.85]\n"
          ]
        },
        {
          "output_type": "stream",
          "name": "stdout",
          "text": [
            "Accuracy of the network on test set at epoch 4: 83.50%\n",
            "excluding id 9, Current train ids: [   0    1    2 ... 5997 5998 5999]\n"
          ]
        },
        {
          "output_type": "stream",
          "name": "stderr",
          "text": [
            "Epoch 1: 100%|██████████| 24/24 [00:01<00:00, 14.85it/s, loss=2.08]\n"
          ]
        },
        {
          "output_type": "stream",
          "name": "stdout",
          "text": [
            "Accuracy of the network on test set at epoch 0: 64.40%\n"
          ]
        },
        {
          "output_type": "stream",
          "name": "stderr",
          "text": [
            "Epoch 2: 100%|██████████| 24/24 [00:02<00:00, 11.52it/s, loss=1.48]\n"
          ]
        },
        {
          "output_type": "stream",
          "name": "stdout",
          "text": [
            "Accuracy of the network on test set at epoch 1: 75.30%\n"
          ]
        },
        {
          "output_type": "stream",
          "name": "stderr",
          "text": [
            "Epoch 3: 100%|██████████| 24/24 [00:01<00:00, 13.53it/s, loss=1.14]\n"
          ]
        },
        {
          "output_type": "stream",
          "name": "stdout",
          "text": [
            "Accuracy of the network on test set at epoch 2: 79.30%\n"
          ]
        },
        {
          "output_type": "stream",
          "name": "stderr",
          "text": [
            "Epoch 4: 100%|██████████| 24/24 [00:01<00:00, 12.66it/s, loss=0.959]\n"
          ]
        },
        {
          "output_type": "stream",
          "name": "stdout",
          "text": [
            "Accuracy of the network on test set at epoch 3: 82.00%\n"
          ]
        },
        {
          "output_type": "stream",
          "name": "stderr",
          "text": [
            "Epoch 5: 100%|██████████| 24/24 [00:02<00:00, 11.51it/s, loss=0.849]\n"
          ]
        },
        {
          "output_type": "stream",
          "name": "stdout",
          "text": [
            "Accuracy of the network on test set at epoch 4: 83.50%\n",
            "LOO Losses on high_loss_test_id: [4.676516, 4.674693, 4.676834, 4.677168, 4.677127, 4.677721, 4.677022, 4.6771636, 4.6768355, 4.6792536]\n"
          ]
        }
      ],
      "source": [
        "loo_losses_array = []\n",
        "for i in range(10):\n",
        "  current_ids = np.delete(train_enumerated_ids, i)\n",
        "  print(f'excluding id {i}, Current train ids:', current_ids)\n",
        "  current_trainset = Subset(trainset, current_ids)\n",
        "  reduced_model = LogisticRegressionModelTorch()\n",
        "\n",
        "  # TODO: Complete the block\n",
        "\n",
        "  train(reduced_model, current_trainset, testset, checkpoints_dir=None)\n",
        "  test_losses = loss_per_sample(reduced_model, testset)\n",
        "  loo_losses_array.append(test_losses[high_loss_test_id])\n",
        "\n",
        "print(\"LOO Losses on high_loss_test_id:\", loo_losses_array)\n"
      ]
    },
    {
      "cell_type": "markdown",
      "metadata": {
        "id": "vTaW1vS1FLFk"
      },
      "source": [
        "**Q2.3** Compute the loo losses differences. You need to subtract the loss of high_loss_test_id when then model was trained using the full dataset, from each loo_loss in the loo_losses_array. Concisely,\n",
        "\n",
        "$L($high_loss_test_id$, \\theta_{-z_i}) - L($high_loss_test_id$, \\theta), i=[0,...,9]$.\n",
        "\n",
        "$\\theta$ denote the model parameters when trained with all data and $\\theta_{-z_i}$ the model parameters when trained without the sample $z_i$.\n",
        "\n",
        "Store the 10 loss differences in loss_diffs array."
      ]
    },
    {
      "cell_type": "code",
      "execution_count": 24,
      "metadata": {
        "id": "CqkHXcA_SXSO",
        "colab": {
          "base_uri": "https://localhost:8080/"
        },
        "outputId": "9b7e0d49-a8cf-4925-e999-af58638f5e78"
      },
      "outputs": [
        {
          "output_type": "stream",
          "name": "stdout",
          "text": [
            "Loss differences (LOO impact): [-0.0018920898, -0.0037150383, -0.0015740395, -0.0012402534, -0.0012812614, -0.00068712234, -0.0013861656, -0.001244545, -0.001572609, 0.0008454323]\n"
          ]
        }
      ],
      "source": [
        "loss_diffs = []\n",
        "# TODO: Complete the block\n",
        "full_model_losses = loss_per_sample(model_full, testset)\n",
        "full_loss_high_id = full_model_losses[high_loss_test_id]\n",
        "\n",
        "loss_diffs = [loo_loss - full_loss_high_id for loo_loss in loo_losses_array]\n",
        "print(\"Loss differences (LOO impact):\", loss_diffs)\n",
        "\n"
      ]
    },
    {
      "cell_type": "markdown",
      "metadata": {
        "id": "WpmK3oXZFqX5"
      },
      "source": [
        "**Q2.4** How many of the loss differences are positive and how many negative? What does negative and positive difference mean?"
      ]
    },
    {
      "cell_type": "markdown",
      "metadata": {
        "id": "uBE336KmGENz"
      },
      "source": [
        "TODO: Answer\n",
        "\n",
        "There are 9 negative differences and 1 positive difference. A negative difference means that removing the sample reduced the loss, suggesting that the sample was not helpful or even harmful to the model. A positive difference means that removing the sample increased the loss, indicating that the sample was important for improving the model’s prediction."
      ]
    },
    {
      "cell_type": "markdown",
      "metadata": {
        "id": "9XQhapmd0BPu"
      },
      "source": [
        "## Task 3 Approximating LOO using TracIn Influence Function"
      ]
    },
    {
      "cell_type": "code",
      "execution_count": 25,
      "metadata": {
        "id": "F3Joxt7g2LBZ"
      },
      "outputs": [],
      "source": [
        "def checkpoints_load_func(net, checkpoint_path):\n",
        "    weights = torch.load(checkpoint_path)\n",
        "    net.load_state_dict(weights[\"model_state_dict\"])\n",
        "    return 1."
      ]
    },
    {
      "cell_type": "code",
      "execution_count": 26,
      "metadata": {
        "id": "Ugr2Vaql2ZyJ"
      },
      "outputs": [],
      "source": [
        "def get_checkpoint_paths(dir):\n",
        "  return [os.path.join(dir, f) for f in os.listdir(dir) if f.endswith('.pt')]"
      ]
    },
    {
      "cell_type": "code",
      "execution_count": 27,
      "metadata": {
        "id": "yQl4M1Fj8PO4"
      },
      "outputs": [],
      "source": [
        "fc_layer = list(model_full.children())[-1]\n",
        "loss_fn = nn.CrossEntropyLoss()"
      ]
    },
    {
      "cell_type": "code",
      "execution_count": 28,
      "metadata": {
        "id": "Jtprchl54PzS"
      },
      "outputs": [],
      "source": [
        "test_examples_features = torch.stack([testset[i][0] for i in range(len(testset))])\n",
        "test_examples_true_labels = torch.Tensor([testset[i][1] for i in range(len(testset))]).long()\n",
        "high_loss_test_sample = (test_examples_features[high_loss_test_id].unsqueeze(0), test_examples_true_labels[high_loss_test_id].unsqueeze(0))"
      ]
    },
    {
      "cell_type": "code",
      "execution_count": 29,
      "metadata": {
        "id": "ens_Sod_0YDj",
        "colab": {
          "base_uri": "https://localhost:8080/"
        },
        "outputId": "46d0ad67-b558-484e-98d8-7629d5dff53d"
      },
      "outputs": [
        {
          "output_type": "execute_result",
          "data": {
            "text/plain": [
              "['model_full_dataset/checkpoint-3.pt',\n",
              " 'model_full_dataset/checkpoint-2.pt',\n",
              " 'model_full_dataset/checkpoint-0.pt',\n",
              " 'model_full_dataset/checkpoint-4.pt',\n",
              " 'model_full_dataset/checkpoint-1.pt']"
            ]
          },
          "metadata": {},
          "execution_count": 29
        }
      ],
      "source": [
        "ckpts = get_checkpoint_paths('model_full_dataset')\n",
        "ckpts"
      ]
    },
    {
      "cell_type": "code",
      "execution_count": 30,
      "metadata": {
        "id": "4p5msE9uG7ZK"
      },
      "outputs": [],
      "source": [
        "first_10_train_samples = Subset(trainset, np.arange(10))"
      ]
    },
    {
      "cell_type": "code",
      "execution_count": 31,
      "metadata": {
        "id": "nnQch3uMzKoF"
      },
      "outputs": [],
      "source": [
        "tracin_cp= TracInCPFast(\n",
        "    model=model_full,\n",
        "    final_fc_layer=fc_layer,\n",
        "    train_dataset=first_10_train_samples,\n",
        "    checkpoints=ckpts,\n",
        "    loss_fn=loss_fn,\n",
        "    checkpoints_load_func=checkpoints_load_func,\n",
        "    batch_size=256\n",
        ")"
      ]
    },
    {
      "cell_type": "markdown",
      "metadata": {
        "id": "OdonCX8hJjyS"
      },
      "source": [
        "**Q3.1** Compute the train-to-test influence using TracIn of the first 10 training samples on the high_loss_test_sample (defined above). Save the influence scores in the z_inf_vector variable. Measure the time to compute the influence of the 10 samples and compare it with the time of training the model as computed in Q1.1.\n",
        "\n",
        "Hint: use with the function *influence* from https://captum.ai/api/influence.html#tracincpfast."
      ]
    },
    {
      "cell_type": "code",
      "execution_count": 37,
      "metadata": {
        "id": "Vp-nVdtk3n9M",
        "colab": {
          "base_uri": "https://localhost:8080/"
        },
        "outputId": "af230cbb-c8c9-47ba-b661-a1ad77863fe2"
      },
      "outputs": [
        {
          "output_type": "stream",
          "name": "stdout",
          "text": [
            "Influence computation completed in 0.10 seconds\n",
            "tensor([[  64.0665,  995.4119,   27.9608, -324.4008, -140.3208, -313.1388,\n",
            "          -88.7214, -178.5711,  -52.9988, -672.2537]])\n"
          ]
        },
        {
          "output_type": "stream",
          "name": "stderr",
          "text": [
            "<ipython-input-25-bc86d8c01204>:2: FutureWarning: You are using `torch.load` with `weights_only=False` (the current default value), which uses the default pickle module implicitly. It is possible to construct malicious pickle data which will execute arbitrary code during unpickling (See https://github.com/pytorch/pytorch/blob/main/SECURITY.md#untrusted-models for more details). In a future release, the default value for `weights_only` will be flipped to `True`. This limits the functions that could be executed during unpickling. Arbitrary objects will no longer be allowed to be loaded via this mode unless they are explicitly allowlisted by the user via `torch.serialization.add_safe_globals`. We recommend you start setting `weights_only=True` for any use case where you don't have full control of the loaded file. Please open an issue on GitHub for any issues related to this experimental feature.\n",
            "  weights = torch.load(checkpoint_path)\n"
          ]
        }
      ],
      "source": [
        "z_inf_vector = None\n",
        "# TODO: complete the block\n",
        "\n",
        "start_time = time.time()\n",
        "z_inf_vector = tracin_cp.influence(high_loss_test_sample)\n",
        "training_time = time.time() - start_time\n",
        "print(f\"Influence computation completed in {training_time:.2f} seconds\")\n",
        "\n",
        "print(z_inf_vector)"
      ]
    },
    {
      "cell_type": "markdown",
      "source": [
        "TracIn is 500 times faster than full model training, making it a highly efficient alternative to the traditional Leave-One-Out (LOO) approach."
      ],
      "metadata": {
        "id": "Ugv6E9XvspLM"
      }
    },
    {
      "cell_type": "code",
      "execution_count": 36,
      "metadata": {
        "id": "YGjw-G6uPOQB"
      },
      "outputs": [],
      "source": [
        "z_inf_vector = z_inf_vector.flatten()"
      ]
    },
    {
      "cell_type": "markdown",
      "metadata": {
        "id": "iA2ODoAUOhap"
      },
      "source": [
        "**Q3.2** Plot the scatter plot between the loss_diffs array and the approximated influence z_inf_vector. What do you observe?"
      ]
    },
    {
      "cell_type": "code",
      "execution_count": 38,
      "metadata": {
        "id": "tv_fQFEl4Ai6",
        "colab": {
          "base_uri": "https://localhost:8080/",
          "height": 564
        },
        "outputId": "96006e65-1614-4371-9e74-a323723b7523"
      },
      "outputs": [
        {
          "output_type": "display_data",
          "data": {
            "text/plain": [
              "<Figure size 800x600 with 1 Axes>"
            ],
            "image/png": "[encoded data removed]"
          },
          "metadata": {}
        }
      ],
      "source": [
        "# TODO: Complete the block\n",
        "\n",
        "import matplotlib.pyplot as plt\n",
        "\n",
        "plt.figure(figsize=(8, 6))\n",
        "plt.scatter(loss_diffs, z_inf_vector, color='blue', alpha=0.7, edgecolor='black')\n",
        "plt.xlabel(\"Loss Differences (LOO Impact)\")\n",
        "plt.ylabel(\"Approximated Influence (TracIn)\")\n",
        "plt.title(\"Scatter Plot: LOO vs TracIn Influence\")\n",
        "plt.grid(True, linestyle=\"--\", alpha=0.6)\n",
        "\n",
        "plt.show()\n",
        "\n"
      ]
    },
    {
      "cell_type": "markdown",
      "metadata": {
        "id": "f-ns2biqO03g"
      },
      "source": [
        "**Q3.3** Compute the spearman correlation coefficient between the loss_diffs array and the approximated influence z_inf_vector. Are the two vectors correlated?"
      ]
    },
    {
      "cell_type": "code",
      "execution_count": 43,
      "metadata": {
        "id": "F5_cOMDd91Jf",
        "colab": {
          "base_uri": "https://localhost:8080/"
        },
        "outputId": "7f479536-e8cd-4347-94cd-35233faecd85"
      },
      "outputs": [
        {
          "output_type": "stream",
          "name": "stdout",
          "text": [
            "Spearman correlation coefficient: -0.9879\n",
            "P-value: 9.307459988955517e-08\n"
          ]
        }
      ],
      "source": [
        "from scipy.stats import spearmanr\n",
        "# TODO: Complete the block\n",
        "\n",
        "loss_diffs = np.array(loss_diffs).flatten()\n",
        "z_inf_vector = np.array(z_inf_vector).flatten()\n",
        "\n",
        "spearman_corr, p_value = spearmanr(loss_diffs, z_inf_vector)\n",
        "\n",
        "print(f\"Spearman correlation coefficient: {spearman_corr:.4f}\")\n",
        "print(f\"P-value: {p_value}\")\n"
      ]
    },
    {
      "cell_type": "markdown",
      "source": [
        "Yes, the two vectors are strongly correlated, but in opposite directions."
      ],
      "metadata": {
        "id": "KbqnDHa35UEk"
      }
    },
    {
      "cell_type": "markdown",
      "metadata": {
        "id": "CSPydLeQPhiJ"
      },
      "source": [
        "**Q3.4** Use again the function *influence* from tracin again but now compute the top-10 proponents (positive influence) and proponents (negative influence) to high_loss_test_sample from all training samples. Store the proponenets/oppenents ids and values in variables."
      ]
    },
    {
      "cell_type": "code",
      "execution_count": 39,
      "metadata": {
        "id": "XrgmkcB0RKGb"
      },
      "outputs": [],
      "source": [
        "tracin_cp= TracInCPFast(\n",
        "    model=model_full,\n",
        "    final_fc_layer=fc_layer,\n",
        "    train_dataset=trainset,\n",
        "    checkpoints=ckpts,\n",
        "    loss_fn=loss_fn,\n",
        "    checkpoints_load_func=checkpoints_load_func,\n",
        "    batch_size=256\n",
        ")"
      ]
    },
    {
      "cell_type": "code",
      "execution_count": 54,
      "metadata": {
        "id": "DBzlAAuBPD7Z",
        "colab": {
          "base_uri": "https://localhost:8080/"
        },
        "outputId": "1f609ec9-b006-4e4f-f7ac-e10ac9f07300"
      },
      "outputs": [
        {
          "output_type": "stream",
          "name": "stderr",
          "text": [
            "<ipython-input-25-bc86d8c01204>:2: FutureWarning: You are using `torch.load` with `weights_only=False` (the current default value), which uses the default pickle module implicitly. It is possible to construct malicious pickle data which will execute arbitrary code during unpickling (See https://github.com/pytorch/pytorch/blob/main/SECURITY.md#untrusted-models for more details). In a future release, the default value for `weights_only` will be flipped to `True`. This limits the functions that could be executed during unpickling. Arbitrary objects will no longer be allowed to be loaded via this mode unless they are explicitly allowlisted by the user via `torch.serialization.add_safe_globals`. We recommend you start setting `weights_only=True` for any use case where you don't have full control of the loaded file. Please open an issue on GitHub for any issues related to this experimental feature.\n",
            "  weights = torch.load(checkpoint_path)\n"
          ]
        }
      ],
      "source": [
        "# TODO: Complete the block\n",
        "\n",
        "proponents_indices, proponents_influence_scores = tracin_cp.influence(\n",
        "    high_loss_test_sample, k=10, proponents=True, show_progress=False\n",
        ")\n",
        "\n",
        "opponents_indices, opponents_influence_scores = tracin_cp.influence(\n",
        "    high_loss_test_sample, k=10, proponents=False, show_progress=False\n",
        ")\n",
        "\n",
        "\n"
      ]
    },
    {
      "cell_type": "code",
      "execution_count": 55,
      "metadata": {
        "id": "fg3NNX7WRA8y",
        "colab": {
          "base_uri": "https://localhost:8080/"
        },
        "outputId": "83191f9a-c832-422f-c65e-36e34f08d73c"
      },
      "outputs": [
        {
          "output_type": "execute_result",
          "data": {
            "text/plain": [
              "(tensor([[ 672,  445, 4168, 1647, 2261, 2972, 1353, 1810, 5195, 2240]]),\n",
              " tensor([[3322.5125, 3311.9751, 3299.5718, 3294.6218, 3147.2295, 3110.1829,\n",
              "          3096.1572, 3075.3730, 3008.3120, 2996.8530]]))"
            ]
          },
          "metadata": {},
          "execution_count": 55
        }
      ],
      "source": [
        "proponents_indices, proponents_influence_scores"
      ]
    },
    {
      "cell_type": "code",
      "execution_count": 56,
      "metadata": {
        "id": "D6TU90bOQsTK",
        "colab": {
          "base_uri": "https://localhost:8080/"
        },
        "outputId": "3c1f70e1-9d2d-4d23-da05-509d7f0c4eb2"
      },
      "outputs": [
        {
          "output_type": "execute_result",
          "data": {
            "text/plain": [
              "(tensor([[4580, 3932, 1945,  610, 4035, 4764, 4568, 5991, 4013, 5777]]),\n",
              " tensor([[-2116.2700, -1785.8566, -1721.2675, -1618.8458, -1579.1450, -1470.5083,\n",
              "          -1449.5088, -1447.6493, -1442.0149, -1430.5283]]))"
            ]
          },
          "metadata": {},
          "execution_count": 56
        }
      ],
      "source": [
        "opponents_indices, opponents_influence_scores"
      ]
    },
    {
      "cell_type": "markdown",
      "metadata": {
        "id": "EptsVLLvRWg6"
      },
      "source": [
        "###Plotting images"
      ]
    },
    {
      "cell_type": "code",
      "execution_count": 57,
      "metadata": {
        "id": "AVG6UDJuRC-5"
      },
      "outputs": [],
      "source": [
        "def display_test_example(example, true_label):\n",
        "    fig, ax = plt.subplots()\n",
        "    print('true_class:', true_label)\n",
        "    ax.imshow(example.squeeze())\n",
        "    plt.show()\n",
        "\n",
        "def display_training_examples(examples, true_labels, figsize=(10,4)):\n",
        "    fig = plt.figure(figsize=figsize)\n",
        "    num_examples = len(examples)\n",
        "    for i in range(num_examples):\n",
        "        ax = fig.add_subplot(1, num_examples, i+1)\n",
        "        ax.imshow(examples[i].squeeze())\n",
        "        ax.set_title(true_labels[i])\n",
        "    plt.show()\n",
        "    return fig\n",
        "\n",
        "def display_proponents_and_opponents(test_examples_batch, proponents_indices, opponents_indices, test_examples_true_labels):\n",
        "    for (\n",
        "        test_example,\n",
        "        test_example_proponents,\n",
        "        test_example_opponents,\n",
        "        test_example_true_label,\n",
        "    ) in zip(\n",
        "        test_examples_batch,\n",
        "        proponents_indices,\n",
        "        opponents_indices,\n",
        "        test_examples_true_labels,\n",
        "    ):\n",
        "\n",
        "        print(\"test example:\")\n",
        "        display_test_example(\n",
        "            test_example,\n",
        "            test_example_true_label\n",
        "        )\n",
        "\n",
        "        print(\"proponents:\")\n",
        "        test_example_proponents_tensors, test_example_proponents_labels = zip(\n",
        "            *[trainset[i] for i in test_example_proponents]\n",
        "        )\n",
        "        display_training_examples(\n",
        "            test_example_proponents_tensors, test_example_proponents_labels, figsize=(20, 8)\n",
        "        )\n",
        "\n",
        "        print(\"opponents:\")\n",
        "        test_example_opponents_tensors, test_example_opponents_labels = zip(\n",
        "            *[trainset[i] for i in test_example_opponents]\n",
        "        )\n",
        "        display_training_examples(\n",
        "            test_example_opponents_tensors, test_example_opponents_labels, figsize=(20, 8)\n",
        "        )"
      ]
    },
    {
      "cell_type": "markdown",
      "metadata": {
        "id": "tzeV-sIfSgit"
      },
      "source": [
        "Call the display_proponents_and_opponents to see the proponents and opponents_indices"
      ]
    },
    {
      "cell_type": "code",
      "execution_count": 58,
      "metadata": {
        "id": "S9xanJCfSiiL",
        "colab": {
          "base_uri": "https://localhost:8080/",
          "height": 822
        },
        "outputId": "c4be518b-19fb-4dde-e520-11fa4e76461c"
      },
      "outputs": [
        {
          "output_type": "stream",
          "name": "stdout",
          "text": [
            "test example:\n",
            "true_class: tensor(7)\n"
          ]
        },
        {
          "output_type": "display_data",
          "data": {
            "text/plain": [
              "<Figure size 640x480 with 1 Axes>"
            ],
            "image/png": "[encoded data removed]"
          },
          "metadata": {}
        },
        {
          "output_type": "stream",
          "name": "stdout",
          "text": [
            "proponents:\n"
          ]
        },
        {
          "output_type": "display_data",
          "data": {
            "text/plain": [
              "<Figure size 2000x800 with 10 Axes>"
            ],
            "image/png": "[encoded data removed]"
          },
          "metadata": {}
        },
        {
          "output_type": "stream",
          "name": "stdout",
          "text": [
            "opponents:\n"
          ]
        },
        {
          "output_type": "display_data",
          "data": {
            "text/plain": [
              "<Figure size 2000x800 with 10 Axes>"
            ],
            "image/png": "[encoded data removed]"
          },
          "metadata": {}
        }
      ],
      "source": [
        "display_proponents_and_opponents(\n",
        "    high_loss_test_sample[0],\n",
        "    proponents_indices,\n",
        "    opponents_indices,\n",
        "    high_loss_test_sample[1],\n",
        "    )"
      ]
    },
    {
      "cell_type": "markdown",
      "metadata": {
        "id": "NBB-I623Ux-V"
      },
      "source": [
        "**Q3.5** Find the predicted class of the high_loss_test_sample. What is the predicted class? What do you observe in the images above?\n",
        "\n",
        "Hint: give the model the input features high_loss_test_sample[1] and take the torch.argmax."
      ]
    },
    {
      "cell_type": "code",
      "execution_count": 59,
      "metadata": {
        "id": "kFYOFoa3Vd82"
      },
      "outputs": [],
      "source": [
        "# TODO: complete the block\n",
        "\n",
        "output = model_full(high_loss_test_sample[0])\n",
        "predicted_class = torch.argmax(output, dim=1).item()\n"
      ]
    },
    {
      "cell_type": "code",
      "source": [
        "predicted_class"
      ],
      "metadata": {
        "colab": {
          "base_uri": "https://localhost:8080/"
        },
        "id": "6jP5zZWnAUxg",
        "outputId": "dee4e218-5c8b-4361-8a1b-d3a9b9a2f492"
      },
      "execution_count": 60,
      "outputs": [
        {
          "output_type": "execute_result",
          "data": {
            "text/plain": [
              "2"
            ]
          },
          "metadata": {},
          "execution_count": 60
        }
      ]
    },
    {
      "cell_type": "markdown",
      "metadata": {
        "id": "FGfxojTXTvcM"
      },
      "source": [
        "###BONUS: Model Manipulation"
      ]
    },
    {
      "cell_type": "markdown",
      "metadata": {
        "id": "YwWWH1CPUosL"
      },
      "source": [
        "We select the misclassified sample 384."
      ]
    },
    {
      "cell_type": "markdown",
      "metadata": {
        "id": "TANRZdHuiC0f"
      },
      "source": [
        "Remove the top-**100** from the dataset and train the model again. Do not save the checkpoints (call the train function with checkpoints_dir=None). What happens to the prediction of the sample 384 now?"
      ]
    },
    {
      "cell_type": "code",
      "execution_count": 67,
      "metadata": {
        "id": "vw3Rni-qclu1",
        "colab": {
          "base_uri": "https://localhost:8080/"
        },
        "outputId": "862cb7dc-ade9-4d39-fa5b-28a52d6bea26"
      },
      "outputs": [
        {
          "output_type": "stream",
          "name": "stdout",
          "text": [
            "Before retraining -> True Class: 5, Predicted: 3\n"
          ]
        },
        {
          "output_type": "stream",
          "name": "stderr",
          "text": [
            "<ipython-input-25-bc86d8c01204>:2: FutureWarning: You are using `torch.load` with `weights_only=False` (the current default value), which uses the default pickle module implicitly. It is possible to construct malicious pickle data which will execute arbitrary code during unpickling (See https://github.com/pytorch/pytorch/blob/main/SECURITY.md#untrusted-models for more details). In a future release, the default value for `weights_only` will be flipped to `True`. This limits the functions that could be executed during unpickling. Arbitrary objects will no longer be allowed to be loaded via this mode unless they are explicitly allowlisted by the user via `torch.serialization.add_safe_globals`. We recommend you start setting `weights_only=True` for any use case where you don't have full control of the loaded file. Please open an issue on GitHub for any issues related to this experimental feature.\n",
            "  weights = torch.load(checkpoint_path)\n",
            "Epoch 1: 100%|██████████| 24/24 [00:01<00:00, 13.87it/s, loss=2.06]\n"
          ]
        },
        {
          "output_type": "stream",
          "name": "stdout",
          "text": [
            "Accuracy of the network on test set at epoch 0: 64.30%\n"
          ]
        },
        {
          "output_type": "stream",
          "name": "stderr",
          "text": [
            "Epoch 2: 100%|██████████| 24/24 [00:02<00:00,  8.69it/s, loss=1.46]\n"
          ]
        },
        {
          "output_type": "stream",
          "name": "stdout",
          "text": [
            "Accuracy of the network on test set at epoch 1: 74.40%\n"
          ]
        },
        {
          "output_type": "stream",
          "name": "stderr",
          "text": [
            "Epoch 3: 100%|██████████| 24/24 [00:01<00:00, 13.15it/s, loss=1.11]\n"
          ]
        },
        {
          "output_type": "stream",
          "name": "stdout",
          "text": [
            "Accuracy of the network on test set at epoch 2: 78.20%\n"
          ]
        },
        {
          "output_type": "stream",
          "name": "stderr",
          "text": [
            "Epoch 4: 100%|██████████| 24/24 [00:01<00:00, 14.33it/s, loss=0.937]\n"
          ]
        },
        {
          "output_type": "stream",
          "name": "stdout",
          "text": [
            "Accuracy of the network on test set at epoch 3: 81.00%\n"
          ]
        },
        {
          "output_type": "stream",
          "name": "stderr",
          "text": [
            "Epoch 5: 100%|██████████| 24/24 [00:01<00:00, 14.78it/s, loss=0.829]\n"
          ]
        },
        {
          "output_type": "stream",
          "name": "stdout",
          "text": [
            "Accuracy of the network on test set at epoch 4: 81.90%\n",
            "After retraining -> True Class: 5, New Predicted: 3\n"
          ]
        }
      ],
      "source": [
        "# TODO: Complete the block\n",
        "import torch\n",
        "import numpy as np\n",
        "\n",
        "test_sample_384 = (test_examples_features[384].unsqueeze(0), test_examples_true_labels[384].unsqueeze(0))\n",
        "\n",
        "\n",
        "initial_prediction = torch.argmax(model_full(test_sample_384[0])).item()\n",
        "true_label = test_examples_true_labels[384].item()\n",
        "print(f\"Before retraining -> True Class: {true_label}, Predicted: {initial_prediction}\")\n",
        "\n",
        "\n",
        "influence_scores_all = tracin_cp.influence(test_sample_384, proponents=True, show_progress=False)\n",
        "\n",
        "\n",
        "influence_scores_all = influence_scores_all.squeeze().numpy()\n",
        "\n",
        "top_100_indices = np.argsort(-influence_scores_all)[:100]\n",
        "\n",
        "new_train_indices = [i for i in range(len(trainset)) if i not in top_100_indices]\n",
        "new_trainset = torch.utils.data.Subset(trainset, new_train_indices)\n",
        "\n",
        "retrained_model = LogisticRegressionModelTorch()\n",
        "train(retrained_model, new_trainset, testset, checkpoints_dir=None)\n",
        "\n",
        "new_prediction = torch.argmax(retrained_model(test_sample_384[0])).item()\n",
        "print(f\"After retraining -> True Class: {true_label}, New Predicted: {new_prediction}\")\n",
        "\n",
        "\n",
        "\n"
      ]
    }
  ],
  "metadata": {
    "colab": {
      "provenance": []
    },
    "kernelspec": {
      "display_name": "Python 3",
      "name": "python3"
    },
    "language_info": {
      "codemirror_mode": {
        "name": "ipython",
        "version": 3
      },
      "file_extension": ".py",
      "mimetype": "text/x-python",
      "name": "python",
      "nbconvert_exporter": "python",
      "pygments_lexer": "ipython3",
      "version": "3.13.1"
    }
  },
  "nbformat": 4,
  "nbformat_minor": 0
}